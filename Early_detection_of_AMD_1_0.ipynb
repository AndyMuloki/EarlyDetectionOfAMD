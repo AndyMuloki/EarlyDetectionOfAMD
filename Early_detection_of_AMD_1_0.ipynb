{
  "nbformat": 4,
  "nbformat_minor": 0,
  "metadata": {
    "colab": {
      "provenance": [],
      "collapsed_sections": [],
      "mount_file_id": "1uzB4GGGaDP-xUfOeKxp1muB04sf8wm4F",
      "authorship_tag": "ABX9TyMc33gUhM3jHOuNKmcAq4NB",
      "include_colab_link": true
    },
    "kernelspec": {
      "name": "python3",
      "display_name": "Python 3"
    },
    "language_info": {
      "name": "python"
    }
  },
  "cells": [
    {
      "cell_type": "markdown",
      "metadata": {
        "id": "view-in-github",
        "colab_type": "text"
      },
      "source": [
        "<a href=\"https://colab.research.google.com/github/AndyMuloki/EarlyDetectionOfAMD/blob/main/Early_detection_of_AMD_1_0.ipynb\" target=\"_parent\"><img src=\"https://colab.research.google.com/assets/colab-badge.svg\" alt=\"Open In Colab\"/></a>"
      ]
    },
    {
      "cell_type": "markdown",
      "source": [
        "### Downloading the Data from Kaggle via API"
      ],
      "metadata": {
        "id": "ph5rhv_3hGnc"
      }
    },
    {
      "cell_type": "code",
      "source": [
        "from google.colab import drive\n",
        "drive.mount('/content/drive')"
      ],
      "metadata": {
        "colab": {
          "base_uri": "https://localhost:8080/"
        },
        "id": "NDaiGtKWY95q",
        "outputId": "a8fa5464-5d42-4e3f-ef6a-87951627ece1"
      },
      "execution_count": null,
      "outputs": [
        {
          "output_type": "stream",
          "name": "stdout",
          "text": [
            "Drive already mounted at /content/drive; to attempt to forcibly remount, call drive.mount(\"/content/drive\", force_remount=True).\n"
          ]
        }
      ]
    },
    {
      "cell_type": "code",
      "source": [
        "# !ls"
      ],
      "metadata": {
        "id": "MQgOEfvb4Imo"
      },
      "execution_count": null,
      "outputs": []
    },
    {
      "cell_type": "code",
      "source": [
        "%cd /content/drive/My Drive/Colab Notebooks/"
      ],
      "metadata": {
        "id": "hcQD_-pu4_Wx",
        "colab": {
          "base_uri": "https://localhost:8080/"
        },
        "outputId": "278f35be-bd17-40c5-e889-837f0109da3a"
      },
      "execution_count": 11,
      "outputs": [
        {
          "output_type": "stream",
          "name": "stdout",
          "text": [
            "/content/drive/My Drive/Colab Notebooks\n"
          ]
        }
      ]
    },
    {
      "cell_type": "code",
      "execution_count": 12,
      "metadata": {
        "id": "SbdQBjq1HkZ3"
      },
      "outputs": [],
      "source": [
        "# !cp kaggle.json ~/.kaggle/\n",
        "# !kaggle datasets download -d andrewmvd/ocular-disease-recognition-odir5k\n",
        "# !unzip ocular-disease-recognition-odir5k.zip\n",
        "!mkdir ODIR-5K/Validation_Images"
      ]
    },
    {
      "cell_type": "markdown",
      "source": [
        "### Importing the necessary libraries\n"
      ],
      "metadata": {
        "id": "5_5oGAIwYaDg"
      }
    },
    {
      "cell_type": "code",
      "source": [
        "import tensorflow as tf\n",
        "import pandas as pd\n",
        "import numpy as np\n",
        "import os"
      ],
      "metadata": {
        "id": "5mTjtx_LX2lo"
      },
      "execution_count": null,
      "outputs": []
    },
    {
      "cell_type": "code",
      "source": [
        "from PIL import Image\n",
        "import glob\n",
        "import random"
      ],
      "metadata": {
        "id": "Bn9YxTWLYD-D"
      },
      "execution_count": null,
      "outputs": []
    },
    {
      "cell_type": "code",
      "source": [
        "import matplotlib.pyplot as plt\n",
        "import IPython.display as display"
      ],
      "metadata": {
        "id": "J0Y79GQrYU35"
      },
      "execution_count": null,
      "outputs": []
    },
    {
      "cell_type": "markdown",
      "source": [
        "### Defining the Batch Size and the Class Names"
      ],
      "metadata": {
        "id": "MtKXqGX4YiNG"
      }
    },
    {
      "cell_type": "code",
      "source": [
        "BATCH_SIZE = 32\n",
        "CLASS_NAMES = ['N','A']\n",
        "\n",
        "training_images_file = 'ODIR-5K/Training Images'\n",
        "testing_images_file = 'ODIR-5K/Testing Images'\n",
        "labels_file = 'ODIR-5K/data.xlsx'\n",
        "\n",
        "# Dictionary mapping of specific diagnostic keywords with disease label\n",
        "\n",
        "# Labels that are not needed are deleted\n",
        "diseases = {'age-related macular degeneration': 'A', 'anterior segment image': 'DELETE', 'choroidal nevus': 'NaN', 'dry age-related macular degeneration': 'A', 'lens dust': 'DELETE', 'low image quality': 'DELETE', 'low image quality,maculopathy': 'DELETE', 'macular pigmentation disorder': 'NaN', 'no fundus image': 'DELETE', 'normal fundus': 'N', 'optic disk photographically invisible': 'DELETE', 'wet age-related macular degeneration': 'A'}\n",
        "\n",
        "#load labels to pandas\n",
        "labels = pd.read_excel(labels_file, index_col=0)"
      ],
      "metadata": {
        "id": "VJPPvaXXYGDC"
      },
      "execution_count": 13,
      "outputs": []
    },
    {
      "cell_type": "code",
      "source": [
        "print(labels['Right-Diagnostic Keywords'][0])"
      ],
      "metadata": {
        "id": "Xuzup5Jtc50W",
        "colab": {
          "base_uri": "https://localhost:8080/"
        },
        "outputId": "3298e96d-182e-4868-e777-bdcf20e48991"
      },
      "execution_count": 18,
      "outputs": [
        {
          "output_type": "stream",
          "name": "stdout",
          "text": [
            "normal fundus\n"
          ]
        }
      ]
    },
    {
      "cell_type": "markdown",
      "source": [
        "### Labelling images and renaming them. Filtering out low quality fundus images"
      ],
      "metadata": {
        "id": "nX5P7D53dcH9"
      }
    },
    {
      "cell_type": "code",
      "source": [
        "file_path = 'ODIR-5K/Training Images'\n",
        "all_paths = []\n",
        "for element in glob.glob(file_path+\"/*.jpg\"):\n",
        "  all_paths.append(element)\n",
        "paths = []\n",
        "\n",
        "#adding label information to image names\n",
        "for u_id in labels.index:\n",
        "  labelL = \"\"\n",
        "  labelR = \"\"\n",
        "  leftDiagnosis = labels['Left-Diagnostic Keywords'][u_id]\n",
        "  rightDiagnosis = labels['Right-Diagnostic Keywords'][u_id]\n",
        "  leftDiagnosis = leftDiagnosis.split(\", \")\n",
        "  rightDiagnosis = rightDiagnosis.split(\", \")\n",
        "\n",
        "  for d in leftDiagnosis:\n",
        "    if d in diseases:\n",
        "        if labelL != \"\":\n",
        "          labelL+=\"&\"+diseases[d]\n",
        "        else:\n",
        "          labelL+=diseases[d]\n",
        "    else:\n",
        "        labelL+=\"DELETE\"\n",
        "  for d in rightDiagnosis:\n",
        "    if d in diseases:\n",
        "      if labelR != \"\":\n",
        "        labelR+=\"&\"+diseases[d]\n",
        "      else:\n",
        "        labelR+=diseases[d]\n",
        "    else:\n",
        "      labelR+=\"DELETE\"\n",
        "\n",
        "  if file_path+\"/\"+str(labels['Left-Fundus'][u_id]) in all_paths:\n",
        "    filename = str(labels['Left-Fundus'][u_id]).split(\".\")\n",
        "    os.rename(file_path+\"/\"+str(labels['Left-Fundus'][u_id]), file_path+\"/\"+filename[0]+\"-\"+labelL+\".jpg\")\n",
        "    paths.append(file_path+\"/\"+str(labels['Left-Fundus'][u_id])+\"/\"+labelL)\n",
        "\n",
        "  if file_path+\"/\"+str(labels['Right-Fundus'][u_id]) in all_paths:\n",
        "    filename = str(labels['Right-Fundus'][u_id]).split(\".\")\n",
        "    os.rename(file_path+\"/\"+str(labels['Right-Fundus'][u_id]), file_path+\"/\"+filename[0]+\"-\"+labelR+\".jpg\")\n",
        "    paths.append(file_path+\"/\"+str(labels['Right-Fundus'][u_id])+\"/\"+labelR)\n"
      ],
      "metadata": {
        "id": "mkTLynsedjQ9"
      },
      "execution_count": 19,
      "outputs": []
    },
    {
      "cell_type": "markdown",
      "source": [
        "**was successful**"
      ],
      "metadata": {
        "id": "7sqJlZ44xG3Q"
      }
    },
    {
      "cell_type": "markdown",
      "source": [
        "**Deleting low quality Images**"
      ],
      "metadata": {
        "id": "OsRLwnk0y4HC"
      }
    },
    {
      "cell_type": "code",
      "source": [
        "#deleting low quality images    \n",
        "items_to_remove = []\n",
        "add_mix_info = []\n",
        "\n",
        "for element in glob.glob(\"ODIR-5K/Training Images/*.jpg\"):\n",
        "    img_name = element.split(\"/\")[-1]\n",
        "    img_label = img_name.split(\"-\")\n",
        "    if \"DELETE\" in img_label[-1]:\n",
        "      items_to_remove.append(element)\n",
        "    elif \"&\" in img_label[-1]:\n",
        "      add_mix_info.append(element)\n",
        "\n",
        "for e in items_to_remove:\n",
        "  os.remove(e)\n",
        "\n",
        "for e in add_mix_info:\n",
        "  pom = e.split(\".\")\n",
        "  os.rename(e, pom[0]+\"&X\"+\".jpg\")      "
      ],
      "metadata": {
        "id": "jLW3BPAwHE6F"
      },
      "execution_count": 20,
      "outputs": []
    },
    {
      "cell_type": "markdown",
      "source": [
        "**was successful**"
      ],
      "metadata": {
        "id": "iq0PnrFNxOcF"
      }
    },
    {
      "cell_type": "markdown",
      "source": [
        "**Enhancing Images and resizing. Creating validation set**"
      ],
      "metadata": {
        "id": "P4t8Fa00HVcx"
      }
    },
    {
      "cell_type": "code",
      "source": [
        "import cv2 as cv\n",
        "\n",
        "def loadAndCropCenterResizeCV2(img, newSize):\n",
        "    #img = cv.imread(imgPath)\n",
        "    width, height, ______ = img.shape\n",
        "    if width == height:\n",
        "        return cv.resize(img, newSize)\n",
        "    length = min(width, height)\n",
        "    left = (width - length) // 2\n",
        "    top = (height - length) // 2\n",
        "    right = (width + length) // 2\n",
        "    bottom = (height + length) // 2\n",
        "    return cv.resize(img[left:right, top:bottom, :], newSize)\n",
        "\n",
        "def clahe_resize(impath):\n",
        "  img = cv.imread(impath)\n",
        "  # resizing image to size; 250 by 250 pixels\n",
        "  eq_image = loadAndCropCenterResizeCV2(img, (250, 250))\n",
        "  \n",
        "  cv.imwrite(impath,eq_image)"
      ],
      "metadata": {
        "id": "UUCBvtO0HgbZ"
      },
      "execution_count": 21,
      "outputs": []
    },
    {
      "cell_type": "code",
      "source": [
        "#images enhancing and resizing (takes a while ~10min)\n",
        "all_paths = []\n",
        "for element in glob.glob(\"ODIR-5K/Training Images/*.jpg\"):\n",
        "  all_paths.append(element)\n",
        "  clahe_resize(element)\n",
        "\n",
        "#creating validation set\n",
        "# num_to_select = 1950  \n",
        "num_to_select = 1450                        \n",
        "list_of_random_items = random.sample(all_paths, num_to_select)\n",
        "for element in list_of_random_items:\n",
        "  p = element.split(\"/\")\n",
        "  os.replace(element, \"ODIR-5K/Validation_Images/\"+p[-1])"
      ],
      "metadata": {
        "id": "TRzxwvOSJ_L_"
      },
      "execution_count": 22,
      "outputs": []
    },
    {
      "cell_type": "markdown",
      "source": [
        "**was successful: took 12m 27s**"
      ],
      "metadata": {
        "id": "uUIotOs30VEU"
      }
    },
    {
      "cell_type": "markdown",
      "source": [
        "*Removing used directories and zipping the datasets*"
      ],
      "metadata": {
        "id": "wvDHdBUw0JK5"
      }
    },
    {
      "cell_type": "code",
      "source": [
        "!zip -r ODIR-5K.zip ODIR-5K/"
      ],
      "metadata": {
        "id": "UiyI3krOL2e6"
      },
      "execution_count": null,
      "outputs": []
    },
    {
      "cell_type": "markdown",
      "source": [
        "**successful: completed in 3m 6s**"
      ],
      "metadata": {
        "id": "yQOHC_IW2h7A"
      }
    },
    {
      "cell_type": "code",
      "source": [
        "# !cp -r ODIR-5K.zip /content/drive/MyDrive/Colab Notebooks/"
      ],
      "metadata": {
        "id": "Qg5NBlHU6B_p",
        "colab": {
          "base_uri": "https://localhost:8080/"
        },
        "outputId": "06829151-10b0-4258-efec-ef48e33f773f"
      },
      "execution_count": 24,
      "outputs": [
        {
          "output_type": "stream",
          "name": "stdout",
          "text": [
            "cp: target 'Notebooks/' is not a directory\n"
          ]
        }
      ]
    },
    {
      "cell_type": "code",
      "source": [
        "def show_class_distribution():\n",
        "  N = 0\n",
        "  A = 0 \n",
        "  for element in glob.glob(\"ODIR-5K/Training Images/*.jpg\"):\n",
        "    img_name = element.split(\"/\")[-1]\n",
        "    img_label = img_name.split(\"-\")\n",
        "    if img_label[-1] == \"N.jpg\":\n",
        "      N += 1\n",
        "    elif img_label[-1] == \"A.jpg\":\n",
        "      A +=1\n",
        "    elif \"&\" in img_label[-1]:\n",
        "      X +=1  \n",
        "  print(N, A)"
      ],
      "metadata": {
        "id": "hB70op45MB32"
      },
      "execution_count": 25,
      "outputs": []
    },
    {
      "cell_type": "code",
      "source": [
        "show_class_distribution()"
      ],
      "metadata": {
        "id": "QiFQ810KMjVU",
        "colab": {
          "base_uri": "https://localhost:8080/"
        },
        "outputId": "11c3dda0-cab8-4087-c8ea-381200389511"
      },
      "execution_count": 26,
      "outputs": [
        {
          "output_type": "stream",
          "name": "stdout",
          "text": [
            "1472 136\n"
          ]
        }
      ]
    }
  ]
}