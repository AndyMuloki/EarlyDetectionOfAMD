{
  "nbformat": 4,
  "nbformat_minor": 0,
  "metadata": {
    "colab": {
      "provenance": [],
      "mount_file_id": "18q0OOvQN9JGy2Pp_o_QHj1CRiRMN5M2L",
      "authorship_tag": "ABX9TyPd6NazkXu+G2AkK0cQGeWc",
      "include_colab_link": true
    },
    "kernelspec": {
      "name": "python3",
      "display_name": "Python 3"
    },
    "language_info": {
      "name": "python"
    },
    "gpuClass": "standard",
    "accelerator": "GPU"
  },
  "cells": [
    {
      "cell_type": "markdown",
      "metadata": {
        "id": "view-in-github",
        "colab_type": "text"
      },
      "source": [
        "<a href=\"https://colab.research.google.com/github/AndyMuloki/EarlyDetectionOfAMD/blob/main/EAMD.ipynb\" target=\"_parent\"><img src=\"https://colab.research.google.com/assets/colab-badge.svg\" alt=\"Open In Colab\"/></a>"
      ]
    },
    {
      "cell_type": "markdown",
      "source": [
        "### Loading Data"
      ],
      "metadata": {
        "id": "ph5rhv_3hGnc"
      }
    },
    {
      "cell_type": "code",
      "source": [
        "# from google.colab import drive\n",
        "# drive.mount('/content/drive')"
      ],
      "metadata": {
        "id": "NDaiGtKWY95q"
      },
      "execution_count": null,
      "outputs": []
    },
    {
      "cell_type": "code",
      "source": [
        "%cd /content/drive/My Drive/Colab Notebooks/"
      ],
      "metadata": {
        "id": "hcQD_-pu4_Wx",
        "colab": {
          "base_uri": "https://localhost:8080/"
        },
        "outputId": "44179978-d5d9-41a8-9bb1-7b60f8e1ac37"
      },
      "execution_count": null,
      "outputs": [
        {
          "output_type": "stream",
          "name": "stdout",
          "text": [
            "/content/drive/My Drive/Colab Notebooks\n"
          ]
        }
      ]
    },
    {
      "cell_type": "code",
      "execution_count": null,
      "metadata": {
        "id": "SbdQBjq1HkZ3"
      },
      "outputs": [],
      "source": [
        "!mkdir ODIR-5K/Validation_Images"
      ]
    },
    {
      "cell_type": "markdown",
      "source": [
        "### Importing the necessary libraries\n"
      ],
      "metadata": {
        "id": "5_5oGAIwYaDg"
      }
    },
    {
      "cell_type": "code",
      "source": [
        "import tensorflow as tf\n",
        "import pandas as pd\n",
        "import numpy as np\n",
        "import os"
      ],
      "metadata": {
        "id": "5mTjtx_LX2lo"
      },
      "execution_count": null,
      "outputs": []
    },
    {
      "cell_type": "code",
      "source": [
        "from PIL import Image\n",
        "import glob\n",
        "import random"
      ],
      "metadata": {
        "id": "Bn9YxTWLYD-D"
      },
      "execution_count": null,
      "outputs": []
    },
    {
      "cell_type": "code",
      "source": [
        "import matplotlib.pyplot as plt\n",
        "import IPython.display as display"
      ],
      "metadata": {
        "id": "J0Y79GQrYU35"
      },
      "execution_count": null,
      "outputs": []
    },
    {
      "cell_type": "markdown",
      "source": [
        "### Defining the Batch Size and the Class Names"
      ],
      "metadata": {
        "id": "MtKXqGX4YiNG"
      }
    },
    {
      "cell_type": "code",
      "source": [
        "BATCH_SIZE = 32\n",
        "CLASS_NAMES = ['N', 'D', 'G', 'C', 'A', 'H', 'M', 'O']\n",
        "\n",
        "training_images_file = 'ODIR-5K/Training Images'\n",
        "testing_images_file = 'ODIR-5K/Testing Images'\n",
        "labels_file = 'ODIR-5K/data.xlsx'\n",
        "\n",
        "# Dictionary mapping of specific diagnostic keywords with disease label\n",
        "\n",
        "# Labels that are not needed are deleted\n",
        "diseases = {'abnormal pigment ': 'O', 'age-related macular degeneration': 'A', 'anterior segment image': 'DELETE', 'arteriosclerosis': 'O', 'asteroid hyalosis': 'O', 'atrophic change': 'O', 'atrophy': 'O', 'branch retinal artery occlusion': 'O', 'branch retinal vein occlusion': 'O', 'cataract': 'C', 'central serous chorioretinopathy': 'O', 'chorioretinal atrophy': 'O', 'choroidal nevus': 'NaN', 'depigmentation of the retinal pigment epithelium': 'O', 'diabetic retinopathy': 'D', 'drusen': 'O', 'dry age-related macular degeneration': 'A', 'epiretinal membrane': 'O', 'epiretinal membrane over the macula': 'O', 'fundus laser photocoagulation spots': 'O', 'glaucoma': 'G', 'glial remnants anterior to the optic disc': 'O', 'hypertensive retinopathy': 'H', 'hypertensive retinopathy,diabetic retinopathy': 'D', 'idiopathic choroidal neovascularization': 'O', 'image offset': 'DELETE', 'laser spot': 'O', 'lens dust': 'DELETE', 'low image quality': 'DELETE', 'low image quality,maculopathy': 'DELETE', 'macular coloboma': 'O', 'macular pigmentation disorder': 'NaN', 'maculopathy': 'O', 'mild nonproliferative retinopathy': 'D', 'moderate non proliferative retinopathy': 'D', 'morning glory syndrome': 'O', 'myelinated nerve fibers': 'O', 'myopia retinopathy': 'M', 'myopic maculopathy': 'M', 'myopic retinopathy': 'M', 'no fundus image': 'DELETE', 'normal fundus': 'N', 'old branch retinal vein occlusion': 'O', 'optic disk photographically invisible': 'DELETE', 'optic nerve atrophy': 'O', 'oval yellow-white atrophy': 'O', 'pathological myopia': 'M', 'peripapillary atrophy': 'O', 'pigment epithelium proliferation': 'O', 'pigmentation disorder': 'O', 'post laser photocoagulation': 'O', 'post retinal laser surgery': 'O', 'proliferative diabetic retinopathy': 'D', 'punctate inner choroidopathy': 'O', 'refractive media opacity': 'O', 'retina fold': 'O', 'retinal artery macroaneurysm': 'O', 'retinal detachment': 'O', 'retinal pigment epithelial hypertrophy': 'O', 'retinal pigment epithelium atrophy': 'O', 'retinal pigmentation': 'O', 'retinal vascular sheathing': 'O', 'retinitis pigmentosa': 'O', 'retinochoroidal coloboma': 'O', 'rhegmatogenous retinal detachment': 'O', 'severe nonproliferative retinopathy': 'D', 'severe proliferative diabetic retinopathy': 'D', 'silicone oil eye': 'O', 'spotted membranous change': 'O', 'suspected abnormal color of  optic disc': 'O', 'suspected cataract': 'C', 'suspected diabetic retinopathy': 'D', 'suspected glaucoma': 'G', 'suspected macular epimacular membrane': 'O', 'suspected microvascular anomalies': 'O', 'suspected moderate non proliferative retinopathy': 'D', 'suspected retinal vascular sheathing': 'O', 'suspected retinitis pigmentosa': 'O', 'suspicious diabetic retinopathy': 'D', 'tessellated fundus': 'O', 'vascular loops': 'O', 'vessel tortuosity': 'O', 'wet age-related macular degeneration': 'A'}\n",
        "\n",
        "# print(diseases)"
      ],
      "metadata": {
        "id": "VJPPvaXXYGDC",
        "colab": {
          "base_uri": "https://localhost:8080/"
        },
        "outputId": "d2ac165d-8753-4c35-ddfb-d862b5fc4e6e"
      },
      "execution_count": null,
      "outputs": [
        {
          "output_type": "stream",
          "name": "stdout",
          "text": [
            "{'abnormal pigment ': 'O', 'age-related macular degeneration': 'A', 'anterior segment image': 'DELETE', 'arteriosclerosis': 'O', 'asteroid hyalosis': 'O', 'atrophic change': 'O', 'atrophy': 'O', 'branch retinal artery occlusion': 'O', 'branch retinal vein occlusion': 'O', 'cataract': 'C', 'central serous chorioretinopathy': 'O', 'chorioretinal atrophy': 'O', 'choroidal nevus': 'NaN', 'depigmentation of the retinal pigment epithelium': 'O', 'diabetic retinopathy': 'D', 'drusen': 'O', 'dry age-related macular degeneration': 'A', 'epiretinal membrane': 'O', 'epiretinal membrane over the macula': 'O', 'fundus laser photocoagulation spots': 'O', 'glaucoma': 'G', 'glial remnants anterior to the optic disc': 'O', 'hypertensive retinopathy': 'H', 'hypertensive retinopathy,diabetic retinopathy': 'D', 'idiopathic choroidal neovascularization': 'O', 'image offset': 'DELETE', 'laser spot': 'O', 'lens dust': 'DELETE', 'low image quality': 'DELETE', 'low image quality,maculopathy': 'DELETE', 'macular coloboma': 'O', 'macular pigmentation disorder': 'NaN', 'maculopathy': 'O', 'mild nonproliferative retinopathy': 'D', 'moderate non proliferative retinopathy': 'D', 'morning glory syndrome': 'O', 'myelinated nerve fibers': 'O', 'myopia retinopathy': 'M', 'myopic maculopathy': 'M', 'myopic retinopathy': 'M', 'no fundus image': 'DELETE', 'normal fundus': 'N', 'old branch retinal vein occlusion': 'O', 'optic disk photographically invisible': 'DELETE', 'optic nerve atrophy': 'O', 'oval yellow-white atrophy': 'O', 'pathological myopia': 'M', 'peripapillary atrophy': 'O', 'pigment epithelium proliferation': 'O', 'pigmentation disorder': 'O', 'post laser photocoagulation': 'O', 'post retinal laser surgery': 'O', 'proliferative diabetic retinopathy': 'D', 'punctate inner choroidopathy': 'O', 'refractive media opacity': 'O', 'retina fold': 'O', 'retinal artery macroaneurysm': 'O', 'retinal detachment': 'O', 'retinal pigment epithelial hypertrophy': 'O', 'retinal pigment epithelium atrophy': 'O', 'retinal pigmentation': 'O', 'retinal vascular sheathing': 'O', 'retinitis pigmentosa': 'O', 'retinochoroidal coloboma': 'O', 'rhegmatogenous retinal detachment': 'O', 'severe nonproliferative retinopathy': 'D', 'severe proliferative diabetic retinopathy': 'D', 'silicone oil eye': 'O', 'spotted membranous change': 'O', 'suspected abnormal color of  optic disc': 'O', 'suspected cataract': 'C', 'suspected diabetic retinopathy': 'D', 'suspected glaucoma': 'G', 'suspected macular epimacular membrane': 'O', 'suspected microvascular anomalies': 'O', 'suspected moderate non proliferative retinopathy': 'D', 'suspected retinal vascular sheathing': 'O', 'suspected retinitis pigmentosa': 'O', 'suspicious diabetic retinopathy': 'D', 'tessellated fundus': 'O', 'vascular loops': 'O', 'vessel tortuosity': 'O', 'wet age-related macular degeneration': 'A'}\n"
          ]
        }
      ]
    },
    {
      "cell_type": "code",
      "source": [
        "#loading labels to pandas\n",
        "labels = pd.read_excel(labels_file, index_col=0)"
      ],
      "metadata": {
        "id": "l1ArHSLmf6rn"
      },
      "execution_count": null,
      "outputs": []
    },
    {
      "cell_type": "code",
      "source": [
        "print(labels['Right-Diagnostic Keywords'][0])"
      ],
      "metadata": {
        "id": "Xuzup5Jtc50W",
        "colab": {
          "base_uri": "https://localhost:8080/"
        },
        "outputId": "35e238d5-5245-4f96-befc-dbd2ce9d2030"
      },
      "execution_count": null,
      "outputs": [
        {
          "output_type": "stream",
          "name": "stdout",
          "text": [
            "normal fundus\n"
          ]
        }
      ]
    },
    {
      "cell_type": "markdown",
      "source": [
        "### Labelling images and renaming them. Filtering out low quality fundus images"
      ],
      "metadata": {
        "id": "nX5P7D53dcH9"
      }
    },
    {
      "cell_type": "code",
      "source": [
        "file_path = 'ODIR-5K/Training Images'\n",
        "all_paths = []\n",
        "for element in glob.glob(file_path+\"/*.jpg\"):\n",
        "  all_paths.append(element)\n",
        "paths = []\n",
        "\n",
        "#adding label information to image names\n",
        "for u_id in labels.index:\n",
        "  labelL = \"\"\n",
        "  labelR = \"\"\n",
        "  leftDiagnosis = labels['Left-Diagnostic Keywords'][u_id]\n",
        "  rightDiagnosis = labels['Right-Diagnostic Keywords'][u_id]\n",
        "  leftDiagnosis = leftDiagnosis.split(\", \")\n",
        "  rightDiagnosis = rightDiagnosis.split(\", \")\n",
        "\n",
        "  for d in leftDiagnosis:\n",
        "    if d in diseases:\n",
        "        if labelL != \"\":\n",
        "          labelL+=\"&\"+diseases[d]\n",
        "        else:\n",
        "          labelL+=diseases[d]\n",
        "    else:\n",
        "        labelL+=\"DELETE\"\n",
        "  for d in rightDiagnosis:\n",
        "    if d in diseases:\n",
        "      if labelR != \"\":\n",
        "        labelR+=\"&\"+diseases[d]\n",
        "      else:\n",
        "        labelR+=diseases[d]\n",
        "    else:\n",
        "      labelR+=\"DELETE\"\n",
        "\n",
        "  if file_path+\"/\"+str(labels['Left-Fundus'][u_id]) in all_paths:\n",
        "    filename = str(labels['Left-Fundus'][u_id]).split(\".\")\n",
        "    os.rename(file_path+\"/\"+str(labels['Left-Fundus'][u_id]), file_path+\"/\"+filename[0]+\"-\"+labelL+\".jpg\")\n",
        "    paths.append(file_path+\"/\"+str(labels['Left-Fundus'][u_id])+\"/\"+labelL)\n",
        "\n",
        "  if file_path+\"/\"+str(labels['Right-Fundus'][u_id]) in all_paths:\n",
        "    filename = str(labels['Right-Fundus'][u_id]).split(\".\")\n",
        "    os.rename(file_path+\"/\"+str(labels['Right-Fundus'][u_id]), file_path+\"/\"+filename[0]+\"-\"+labelR+\".jpg\")\n",
        "    paths.append(file_path+\"/\"+str(labels['Right-Fundus'][u_id])+\"/\"+labelR)\n"
      ],
      "metadata": {
        "id": "mkTLynsedjQ9"
      },
      "execution_count": null,
      "outputs": []
    },
    {
      "cell_type": "markdown",
      "source": [
        "**was successful**"
      ],
      "metadata": {
        "id": "7sqJlZ44xG3Q"
      }
    },
    {
      "cell_type": "markdown",
      "source": [
        "**Deleting low quality Images**"
      ],
      "metadata": {
        "id": "OsRLwnk0y4HC"
      }
    },
    {
      "cell_type": "code",
      "source": [
        "#deleting low quality images    \n",
        "items_to_remove = []\n",
        "add_mix_info = []\n",
        "\n",
        "for element in glob.glob(\"ODIR-5K/Training Images/*.jpg\"):\n",
        "    img_name = element.split(\"/\")[-1]\n",
        "    img_label = img_name.split(\"-\")\n",
        "    if \"DELETE\" in img_label[-1]:\n",
        "      items_to_remove.append(element)\n",
        "    elif \"&\" in img_label[-1]:\n",
        "      add_mix_info.append(element)\n",
        "\n",
        "for e in items_to_remove:\n",
        "  os.remove(e)\n",
        "\n",
        "for e in add_mix_info:\n",
        "  pom = e.split(\".\")\n",
        "  os.rename(e, pom[0]+\"&X\"+\".jpg\")      "
      ],
      "metadata": {
        "id": "jLW3BPAwHE6F"
      },
      "execution_count": null,
      "outputs": []
    },
    {
      "cell_type": "markdown",
      "source": [
        "**was successful**"
      ],
      "metadata": {
        "id": "iq0PnrFNxOcF"
      }
    },
    {
      "cell_type": "markdown",
      "source": [
        "**Enhancing Images and resizing. Creating validation set**"
      ],
      "metadata": {
        "id": "P4t8Fa00HVcx"
      }
    },
    {
      "cell_type": "code",
      "source": [
        "import cv2 as cv\n",
        "\n",
        "def loadAndCropCenterResizeCV2(img, newSize):\n",
        "    #img = cv.imread(imgPath)\n",
        "    width, height, ______ = img.shape\n",
        "    if width == height:\n",
        "        return cv.resize(img, newSize)\n",
        "    length = min(width, height)\n",
        "    left = (width - length) // 2\n",
        "    top = (height - length) // 2\n",
        "    right = (width + length) // 2\n",
        "    bottom = (height + length) // 2\n",
        "    return cv.resize(img[left:right, top:bottom, :], newSize)\n",
        "\n",
        "def clahe_resize(impath):\n",
        "  img = cv.imread(impath)\n",
        "  # resizing image to size; 250 by 250 pixels\n",
        "  eq_image = loadAndCropCenterResizeCV2(img, (250, 250))\n",
        "  \n",
        "  cv.imwrite(impath,eq_image)"
      ],
      "metadata": {
        "id": "UUCBvtO0HgbZ"
      },
      "execution_count": null,
      "outputs": []
    },
    {
      "cell_type": "code",
      "source": [
        "# enhancing and resizing images\n",
        "all_paths = []\n",
        "for element in glob.glob(\"ODIR-5K/Training Images/*.jpg\"):\n",
        "  all_paths.append(element)\n",
        "  clahe_resize(element)\n",
        "\n",
        "#creating validation set\n",
        "num_to_select = 1450                        \n",
        "list_of_random_items = random.sample(all_paths, num_to_select)\n",
        "for element in list_of_random_items:\n",
        "  p = element.split(\"/\")\n",
        "  os.replace(element, \"ODIR-5K/Validation_Images/\"+p[-1])"
      ],
      "metadata": {
        "id": "TRzxwvOSJ_L_"
      },
      "execution_count": null,
      "outputs": []
    },
    {
      "cell_type": "markdown",
      "source": [
        "**was successful: took 7m 30s on GPU**"
      ],
      "metadata": {
        "id": "uUIotOs30VEU"
      }
    },
    {
      "cell_type": "markdown",
      "source": [
        "**successful: completed in 3m 6s**"
      ],
      "metadata": {
        "id": "yQOHC_IW2h7A"
      }
    },
    {
      "cell_type": "code",
      "source": [
        "def show_class_distribution():\n",
        "  N = 0\n",
        "  A = 0 \n",
        "  for element in glob.glob(\"ODIR-5K/Training Images/*.jpg\"):\n",
        "    img_name = element.split(\"/\")[-1]\n",
        "    img_label = img_name.split(\"-\")\n",
        "    if img_label[-1] == \"N.jpg\":\n",
        "      N += 1\n",
        "    elif img_label[-1] == \"A.jpg\":\n",
        "      A +=1\n",
        "    elif \"&\" in img_label[-1]:\n",
        "      X +=1  \n",
        "  print(N, A)"
      ],
      "metadata": {
        "id": "hB70op45MB32"
      },
      "execution_count": null,
      "outputs": []
    },
    {
      "cell_type": "code",
      "source": [
        "show_class_distribution()"
      ],
      "metadata": {
        "id": "QiFQ810KMjVU",
        "colab": {
          "base_uri": "https://localhost:8080/"
        },
        "outputId": "21dbcb2a-ab26-4a03-e09e-a7bde0fae8cf"
      },
      "execution_count": null,
      "outputs": [
        {
          "output_type": "stream",
          "name": "stdout",
          "text": [
            "2103 174\n"
          ]
        }
      ]
    },
    {
      "cell_type": "markdown",
      "source": [
        "### Selecting images for training from the 'Training Images' folder."
      ],
      "metadata": {
        "id": "mxVrMSx1vizD"
      }
    },
    {
      "cell_type": "code",
      "source": [
        "import os\n",
        "import glob\n",
        "\n",
        "items_to_remove = []\n",
        "all_elements_train = 0\n",
        "all_elements_val = 0\n",
        "for element in glob.glob(\"ODIR-5K/Training Images/*.jpg\"):\n",
        "  img_name = element.split(\"/\")[-1]\n",
        "  img_label = img_name.split(\"-\")\n",
        "  if img_label[-1] != \"N.jpg\" and img_label[-1] != \"A.jpg\":\n",
        "    items_to_remove.append(element)\n",
        "  else:\n",
        "    all_elements_train+=1\n",
        "  \n",
        "for element in glob.glob(\"ODIR-5K/Validation_Images/*.jpg\"):\n",
        "  img_name = element.split(\"/\")[-1]\n",
        "  img_label = img_name.split(\"-\")\n",
        "  if img_label[-1] != \"N.jpg\" and img_label[-1] != \"A.jpg\":\n",
        "    items_to_remove.append(element)\n",
        "  else: \n",
        "    all_elements_val+=1\n",
        "  \n",
        "for e in items_to_remove:\n",
        "  os.remove(e)\n"
      ],
      "metadata": {
        "id": "qb9lDvSYvE17"
      },
      "execution_count": null,
      "outputs": []
    },
    {
      "cell_type": "code",
      "source": [
        "print(all_elements_train, all_elements_val)"
      ],
      "metadata": {
        "id": "2Lo6YawevJGC",
        "colab": {
          "base_uri": "https://localhost:8080/"
        },
        "outputId": "df620b55-3bac-4fb9-a9e2-0a2a64f7f846"
      },
      "execution_count": null,
      "outputs": [
        {
          "output_type": "stream",
          "name": "stdout",
          "text": [
            "2277 776\n"
          ]
        }
      ]
    },
    {
      "cell_type": "code",
      "source": [
        "import tensorflow as tf\n",
        "import pandas as pd\n",
        "import os"
      ],
      "metadata": {
        "id": "V-BtLrbpv2Pb"
      },
      "execution_count": null,
      "outputs": []
    },
    {
      "cell_type": "code",
      "source": [
        "from PIL import Image\n",
        "import matplotlib.pyplot as plt\n",
        "import IPython.display as display"
      ],
      "metadata": {
        "id": "IiYHUFFgv5iw"
      },
      "execution_count": null,
      "outputs": []
    },
    {
      "cell_type": "code",
      "source": [
        "import numpy as np\n",
        "import glob\n",
        "import random"
      ],
      "metadata": {
        "id": "RBttNAE1wCo1"
      },
      "execution_count": null,
      "outputs": []
    },
    {
      "cell_type": "code",
      "source": [
        "BATCH_SIZE = 32\n",
        "IMG_HEIGHT = 250\n",
        "IMG_WIDTH = 250\n",
        "CLASS_NAMES = ['N', 'A']"
      ],
      "metadata": {
        "id": "RTjw2Ho6wFBZ"
      },
      "execution_count": null,
      "outputs": []
    },
    {
      "cell_type": "code",
      "source": [
        "resampled1_ds =  tf.data.Dataset.list_files(\"ODIR-5K/Training Images/*.jpg\")\n",
        "test_ds = tf.data.Dataset.list_files(\"ODIR-5K/Validation_Images/*.jpg\")"
      ],
      "metadata": {
        "id": "AfyiEWMCwUBs"
      },
      "execution_count": null,
      "outputs": []
    },
    {
      "cell_type": "code",
      "source": [
        "def get_label(name):\n",
        "  parts = tf.strings.split(name, sep=\"-\")\n",
        "  label = tf.strings.split(parts[-1], sep=\".\")\n",
        "  label = tf.strings.bytes_split(label[0])\n",
        "  l = [0, 0]\n",
        "\n",
        "  for e in label:\n",
        "    if e != '&' and e != 'X':\n",
        "      if e == 'N':\n",
        "        l[0] = 1\n",
        "      elif e == 'A':\n",
        "        l[1] = 1\n",
        "  return l\n",
        "\n",
        "def get_name(file_path):\n",
        "  parts = tf.strings.split(file_path, os.path.sep)\n",
        "  return parts[-1]\n",
        "\n",
        "def decode_img(img):\n",
        "  img = tf.image.decode_jpeg(img, channels=3)\n",
        "  img = tf.image.convert_image_dtype(img, tf.float32)\n",
        "  return img\n",
        "\n",
        "def process_path(file_path):\n",
        "  name = get_name(file_path)\n",
        "  label = get_label(name)\n",
        "  # load the raw data from the file as a string\n",
        "  img = tf.io.read_file(file_path)\n",
        "  img = decode_img(img)\n",
        "  return img, label"
      ],
      "metadata": {
        "id": "lhu55QJCwZA1"
      },
      "execution_count": null,
      "outputs": []
    },
    {
      "cell_type": "code",
      "source": [
        "AUTOTUNE = tf.data.experimental.AUTOTUNE\n",
        "resampled_named_ds = resampled1_ds.map(process_path, num_parallel_calls=AUTOTUNE)\n",
        "test_named_ds = test_ds.map(process_path, num_parallel_calls=AUTOTUNE)"
      ],
      "metadata": {
        "id": "Do9woEBowr9H"
      },
      "execution_count": null,
      "outputs": []
    },
    {
      "cell_type": "code",
      "source": [
        "for image, label in resampled_named_ds.take(6):\n",
        "  plt.imshow(image.numpy())\n",
        "  print('label: ', CLASS_NAMES[np.nonzero(label.numpy()==1)[0][0]], label.numpy())"
      ],
      "metadata": {
        "id": "qcN0hJmvwtFj",
        "colab": {
          "base_uri": "https://localhost:8080/",
          "height": 378
        },
        "outputId": "e9c866c8-ea3a-406b-a269-ba3abcf63cba"
      },
      "execution_count": null,
      "outputs": [
        {
          "output_type": "stream",
          "name": "stdout",
          "text": [
            "label:  N [1 0]\n",
            "label:  N [1 0]\n",
            "label:  N [1 0]\n",
            "label:  N [1 0]\n",
            "label:  N [1 0]\n",
            "label:  A [0 1]\n"
          ]
        },
        {
          "output_type": "display_data",
          "data": {
            "text/plain": [
              "<Figure size 432x288 with 1 Axes>"
            ],
            "image/png": "[encoded data removed]"
          },
          "metadata": {
            "needs_background": "light"
          }
        }
      ]
    },
    {
      "cell_type": "code",
      "source": [
        "def randomly_augment(image,label):\n",
        "  image = tf.image.random_flip_left_right(image)\n",
        "  return image, label\n",
        "\n",
        "def prepare_for_training(ds, cache=True, shuffle_buffer_size=1000):\n",
        "  ds = ds.shuffle(buffer_size=shuffle_buffer_size, reshuffle_each_iteration=False)\n",
        "  ds = ds.repeat()\n",
        "  ds = ds.batch(BATCH_SIZE, drop_remainder=True)\n",
        "  ds = ds.prefetch(buffer_size=AUTOTUNE)\n",
        "  return ds\n",
        "\n",
        "def prepare_for_testing(ds, cache=True, shuffle_buffer_size=1000):\n",
        "  ds = ds.cache()\n",
        "  ds = ds.batch(32, drop_remainder=True)\n",
        "  ds = ds.repeat()\n",
        "\n",
        "  return ds"
      ],
      "metadata": {
        "id": "CpNET61Xwwpe"
      },
      "execution_count": null,
      "outputs": []
    },
    {
      "cell_type": "code",
      "source": [
        "final_train_ds = prepare_for_training(resampled_named_ds,cache=True,shuffle_buffer_size=3000)\n",
        "final_test_ds = prepare_for_testing(test_named_ds,cache=True,shuffle_buffer_size=100)"
      ],
      "metadata": {
        "id": "MpInjgv1xg02"
      },
      "execution_count": null,
      "outputs": []
    },
    {
      "cell_type": "code",
      "source": [
        "for example in final_train_ds.take(1):\n",
        "  image, label = example\n",
        "  break\n",
        "\n",
        "im, lab = image[17], label[17]\n",
        "plt.imshow(im.numpy())\n",
        "print(lab.numpy())"
      ],
      "metadata": {
        "id": "zAQ9WgPcxhXA",
        "colab": {
          "base_uri": "https://localhost:8080/",
          "height": 287
        },
        "outputId": "6a718780-87e1-429b-ca08-17a007ad412b"
      },
      "execution_count": null,
      "outputs": [
        {
          "output_type": "stream",
          "name": "stdout",
          "text": [
            "[1 0]\n"
          ]
        },
        {
          "output_type": "display_data",
          "data": {
            "text/plain": [
              "<Figure size 432x288 with 1 Axes>"
            ],
            "image/png": "[encoded data removed]"
          },
          "metadata": {
            "needs_background": "light"
          }
        }
      ]
    },
    {
      "cell_type": "markdown",
      "source": [
        "### Training begins..."
      ],
      "metadata": {
        "id": "9-Owcthkx6Mt"
      }
    },
    {
      "cell_type": "code",
      "source": [
        "model_cnn = tf.keras.Sequential([\n",
        "    \n",
        "    # 1st VGG block\n",
        "    tf.keras.layers.Conv2D(32, (5, 5), padding = \"same\", input_shape=(IMG_HEIGHT, IMG_WIDTH ,3)),\n",
        "    tf.keras.layers.BatchNormalization(center=True, scale=False),\n",
        "    tf.keras.layers.Activation(\"relu\"),\n",
        "\n",
        "    tf.keras.layers.Conv2D(32, (5, 5), padding = \"same\"),\n",
        "    tf.keras.layers.BatchNormalization(center=True, scale=False),\n",
        "    tf.keras.layers.Activation(\"relu\"),\n",
        "\n",
        "    tf.keras.layers.MaxPooling2D(pool_size = (3, 3)),\n",
        "    tf.keras.layers.Dropout(0.45),\n",
        "\n",
        "    #2nd VGG block\n",
        "    tf.keras.layers.Conv2D(128, (5, 5), padding = \"same\"),\n",
        "    tf.keras.layers.BatchNormalization(center=True, scale=False),\n",
        "    tf.keras.layers.Activation(\"relu\"),\n",
        "\n",
        "    tf.keras.layers.Conv2D(128, (5, 5), padding = \"same\"),\n",
        "    tf.keras.layers.BatchNormalization(center=True, scale=False),\n",
        "    tf.keras.layers.Activation(\"relu\"),\n",
        "\n",
        "    tf.keras.layers.MaxPooling2D(pool_size = (3, 3)),\n",
        "    tf.keras.layers.Dropout(0.45),\n",
        "\n",
        "    tf.keras.layers.Flatten(),\n",
        "\n",
        "    tf.keras.layers.Dense(2, activation = 'softmax')\n",
        "])\n",
        "\n",
        "model_cnn.compile(optimizer=tf.keras.optimizers.Adam(lr=0.0001),\n",
        "              loss='categorical_crossentropy',\n",
        "              metrics=['accuracy', tf.keras.metrics.Precision(), tf.keras.metrics.Recall()])\n",
        "\n",
        "model_cnn.summary()"
      ],
      "metadata": {
        "id": "Lw7Dc3orx8LW",
        "colab": {
          "base_uri": "https://localhost:8080/"
        },
        "outputId": "6e169eeb-039e-4b35-927f-cb8d88fb18ef"
      },
      "execution_count": null,
      "outputs": [
        {
          "output_type": "stream",
          "name": "stdout",
          "text": [
            "Model: \"sequential_1\"\n",
            "_________________________________________________________________\n",
            " Layer (type)                Output Shape              Param #   \n",
            "=================================================================\n",
            " conv2d_4 (Conv2D)           (None, 250, 250, 32)      2432      \n",
            "                                                                 \n",
            " batch_normalization_4 (Batc  (None, 250, 250, 32)     96        \n",
            " hNormalization)                                                 \n",
            "                                                                 \n",
            " activation_4 (Activation)   (None, 250, 250, 32)      0         \n",
            "                                                                 \n",
            " conv2d_5 (Conv2D)           (None, 250, 250, 32)      25632     \n",
            "                                                                 \n",
            " batch_normalization_5 (Batc  (None, 250, 250, 32)     96        \n",
            " hNormalization)                                                 \n",
            "                                                                 \n",
            " activation_5 (Activation)   (None, 250, 250, 32)      0         \n",
            "                                                                 \n",
            " max_pooling2d_2 (MaxPooling  (None, 83, 83, 32)       0         \n",
            " 2D)                                                             \n",
            "                                                                 \n",
            " dropout_2 (Dropout)         (None, 83, 83, 32)        0         \n",
            "                                                                 \n",
            " conv2d_6 (Conv2D)           (None, 83, 83, 128)       102528    \n",
            "                                                                 \n",
            " batch_normalization_6 (Batc  (None, 83, 83, 128)      384       \n",
            " hNormalization)                                                 \n",
            "                                                                 \n",
            " activation_6 (Activation)   (None, 83, 83, 128)       0         \n",
            "                                                                 \n",
            " conv2d_7 (Conv2D)           (None, 83, 83, 128)       409728    \n",
            "                                                                 \n",
            " batch_normalization_7 (Batc  (None, 83, 83, 128)      384       \n",
            " hNormalization)                                                 \n",
            "                                                                 \n",
            " activation_7 (Activation)   (None, 83, 83, 128)       0         \n",
            "                                                                 \n",
            " max_pooling2d_3 (MaxPooling  (None, 27, 27, 128)      0         \n",
            " 2D)                                                             \n",
            "                                                                 \n",
            " dropout_3 (Dropout)         (None, 27, 27, 128)       0         \n",
            "                                                                 \n",
            " flatten_1 (Flatten)         (None, 93312)             0         \n",
            "                                                                 \n",
            " dense_1 (Dense)             (None, 2)                 186626    \n",
            "                                                                 \n",
            "=================================================================\n",
            "Total params: 727,906\n",
            "Trainable params: 727,266\n",
            "Non-trainable params: 640\n",
            "_________________________________________________________________\n"
          ]
        }
      ]
    },
    {
      "cell_type": "markdown",
      "source": [
        "**Epochs are defined here...**"
      ],
      "metadata": {
        "id": "0Sw5R31dybTA"
      }
    },
    {
      "cell_type": "code",
      "source": [
        "history_cnn = model_cnn.fit(final_train_ds,\n",
        "                    #batch_size=32,\n",
        "                    epochs=12,\n",
        "                    steps_per_epoch = 100, #train_elements/batch_size\n",
        "                    validation_data=final_test_ds,\n",
        "                    validation_steps = 33,\n",
        "                    use_multiprocessing=True,                    \n",
        "                    )"
      ],
      "metadata": {
        "id": "2TWVI6FQyQN3",
        "colab": {
          "base_uri": "https://localhost:8080/"
        },
        "outputId": "90b0c04d-925a-4784-bd0e-fbe8846844a2"
      },
      "execution_count": null,
      "outputs": [
        {
          "output_type": "stream",
          "name": "stdout",
          "text": [
            "Epoch 1/12\n",
            "100/100 [==============================] - 30s 227ms/step - loss: 0.3004 - accuracy: 0.9144 - precision_1: 0.9144 - recall_1: 0.9144 - val_loss: 0.3810 - val_accuracy: 0.9149 - val_precision_1: 0.9149 - val_recall_1: 0.9149\n",
            "Epoch 2/12\n",
            "100/100 [==============================] - 23s 225ms/step - loss: 0.3188 - accuracy: 0.9109 - precision_1: 0.9109 - recall_1: 0.9109 - val_loss: 0.3779 - val_accuracy: 0.9192 - val_precision_1: 0.9192 - val_recall_1: 0.9192\n",
            "Epoch 3/12\n",
            "100/100 [==============================] - 22s 224ms/step - loss: 0.2837 - accuracy: 0.9116 - precision_1: 0.9116 - recall_1: 0.9116 - val_loss: 0.4056 - val_accuracy: 0.9170 - val_precision_1: 0.9170 - val_recall_1: 0.9170\n",
            "Epoch 4/12\n",
            "100/100 [==============================] - 22s 225ms/step - loss: 0.2792 - accuracy: 0.9187 - precision_1: 0.9187 - recall_1: 0.9187 - val_loss: 0.3768 - val_accuracy: 0.9159 - val_precision_1: 0.9159 - val_recall_1: 0.9159\n",
            "Epoch 5/12\n",
            "100/100 [==============================] - 22s 225ms/step - loss: 0.2635 - accuracy: 0.9200 - precision_1: 0.9200 - recall_1: 0.9200 - val_loss: 0.4242 - val_accuracy: 0.9030 - val_precision_1: 0.9030 - val_recall_1: 0.9030\n",
            "Epoch 6/12\n",
            "100/100 [==============================] - 22s 225ms/step - loss: 0.2637 - accuracy: 0.9212 - precision_1: 0.9212 - recall_1: 0.9212 - val_loss: 0.3851 - val_accuracy: 0.9116 - val_precision_1: 0.9116 - val_recall_1: 0.9116\n",
            "Epoch 7/12\n",
            "100/100 [==============================] - 23s 226ms/step - loss: 0.3091 - accuracy: 0.9119 - precision_1: 0.9119 - recall_1: 0.9119 - val_loss: 0.4429 - val_accuracy: 0.9009 - val_precision_1: 0.9009 - val_recall_1: 0.9009\n",
            "Epoch 8/12\n",
            "100/100 [==============================] - 23s 226ms/step - loss: 0.2456 - accuracy: 0.9194 - precision_1: 0.9194 - recall_1: 0.9194 - val_loss: 0.4054 - val_accuracy: 0.8825 - val_precision_1: 0.8825 - val_recall_1: 0.8825\n",
            "Epoch 9/12\n",
            "100/100 [==============================] - 22s 225ms/step - loss: 0.2480 - accuracy: 0.9262 - precision_1: 0.9262 - recall_1: 0.9262 - val_loss: 0.3886 - val_accuracy: 0.8944 - val_precision_1: 0.8944 - val_recall_1: 0.8944\n",
            "Epoch 10/12\n",
            "100/100 [==============================] - 22s 225ms/step - loss: 0.2614 - accuracy: 0.9169 - precision_1: 0.9169 - recall_1: 0.9169 - val_loss: 0.4324 - val_accuracy: 0.9106 - val_precision_1: 0.9106 - val_recall_1: 0.9106\n",
            "Epoch 11/12\n",
            "100/100 [==============================] - 22s 225ms/step - loss: 0.2373 - accuracy: 0.9256 - precision_1: 0.9256 - recall_1: 0.9256 - val_loss: 0.4076 - val_accuracy: 0.9106 - val_precision_1: 0.9106 - val_recall_1: 0.9106\n",
            "Epoch 12/12\n",
            "100/100 [==============================] - 22s 225ms/step - loss: 0.2508 - accuracy: 0.9184 - precision_1: 0.9184 - recall_1: 0.9184 - val_loss: 0.4294 - val_accuracy: 0.8955 - val_precision_1: 0.8955 - val_recall_1: 0.8955\n"
          ]
        }
      ]
    },
    {
      "cell_type": "code",
      "source": [
        "model_cnn.evaluate(final_test_ds, steps=100)"
      ],
      "metadata": {
        "id": "-DHf2v9Hywlw"
      },
      "execution_count": null,
      "outputs": []
    },
    {
      "cell_type": "code",
      "source": [],
      "metadata": {
        "id": "hKnNK9Z8t3BI"
      },
      "execution_count": null,
      "outputs": []
    }
  ]
}